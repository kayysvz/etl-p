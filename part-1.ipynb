{
 "cells": [
  {
   "cell_type": "code",
   "execution_count": 43,
   "metadata": {},
   "outputs": [],
   "source": [
    "import numpy as np\n",
    "import pandas as pd\n",
    "from pyspark.sql import SparkSession\n",
    "\n",
    "import os\n",
    "os.environ['JAVA_HOME'] = 'C:\\Program Files\\Java\\jdk-18.0.2'\n",
    "os.environ['SPARK_HOME'] = 'C:\\Program Files\\spark-3.3.0-bin-hadoop3'"
   ]
  },
  {
   "cell_type": "code",
   "execution_count": 44,
   "metadata": {},
   "outputs": [],
   "source": [
    "#Create a spark session\n",
    "\n",
    "spark = SparkSession.builder.appName('Read JSON File into DataFrame').getOrCreate()\n",
    "\n",
    "#Read JSON and assign to pyspark dataframes\n",
    "\n",
    "customer_df = spark.read.json('cdw_sapp_custmer.json')\n",
    "credit_df = spark.read.json('cdw_sapp_credit.json')\n",
    "branch_df = spark.read.json('cdw_sapp_branch.json')"
   ]
  },
  {
   "cell_type": "code",
   "execution_count": 45,
   "metadata": {},
   "outputs": [
    {
     "name": "stdout",
     "output_type": "stream",
     "text": [
      "root\n",
      " |-- APT_NO: string (nullable = true)\n",
      " |-- CREDIT_CARD_NO: string (nullable = true)\n",
      " |-- CUST_CITY: string (nullable = true)\n",
      " |-- CUST_COUNTRY: string (nullable = true)\n",
      " |-- CUST_EMAIL: string (nullable = true)\n",
      " |-- CUST_PHONE: long (nullable = true)\n",
      " |-- CUST_STATE: string (nullable = true)\n",
      " |-- CUST_ZIP: string (nullable = true)\n",
      " |-- FIRST_NAME: string (nullable = true)\n",
      " |-- LAST_NAME: string (nullable = true)\n",
      " |-- LAST_UPDATED: string (nullable = true)\n",
      " |-- MIDDLE_NAME: string (nullable = true)\n",
      " |-- SSN: long (nullable = true)\n",
      " |-- STREET_NAME: string (nullable = true)\n",
      "\n"
     ]
    }
   ],
   "source": [
    "\n",
    "customer_df.printSchema()"
   ]
  },
  {
   "cell_type": "code",
   "execution_count": 48,
   "metadata": {},
   "outputs": [
    {
     "name": "stdout",
     "output_type": "stream",
     "text": [
      "+----------------+------------+-------------+-------------------+----------+----------+--------+----------+---------+--------------------+-----------+---------+--------------------+\n",
      "|  CREDIT_CARD_NO|   CUST_CITY| CUST_COUNTRY|         CUST_EMAIL|CUST_PHONE|CUST_STATE|CUST_ZIP|First_Name|Last_Name|        LAST_UPDATED|Middle_Name|      SSN| FULL_STREET_ADDRESS|\n",
      "+----------------+------------+-------------+-------------------+----------+----------+--------+----------+---------+--------------------+-----------+---------+--------------------+\n",
      "|4210653310061055|     Natchez|United States|AHooper@example.com|   1237818|        MS|   39120|      Alec|   Hooper|2018-04-21T12:49:...|         Wm|123456100|Main Street North...|\n",
      "|4210653310102868|Wethersfield|United States|EHolman@example.com|   1238933|        CT|    6109|      Etta|   Holman|2018-04-21T12:49:...|    Brendan|123453023|   Redwood Drive 829|\n",
      "+----------------+------------+-------------+-------------------+----------+----------+--------+----------+---------+--------------------+-----------+---------+--------------------+\n",
      "only showing top 2 rows\n",
      "\n",
      "root\n",
      " |-- CREDIT_CARD_NO: string (nullable = true)\n",
      " |-- CUST_CITY: string (nullable = true)\n",
      " |-- CUST_COUNTRY: string (nullable = true)\n",
      " |-- CUST_EMAIL: string (nullable = true)\n",
      " |-- CUST_PHONE: long (nullable = true)\n",
      " |-- CUST_STATE: string (nullable = true)\n",
      " |-- CUST_ZIP: integer (nullable = true)\n",
      " |-- First_Name: string (nullable = true)\n",
      " |-- Last_Name: string (nullable = true)\n",
      " |-- LAST_UPDATED: string (nullable = true)\n",
      " |-- Middle_Name: string (nullable = true)\n",
      " |-- SSN: long (nullable = true)\n",
      " |-- FULL_STREET_ADDRESS: string (nullable = false)\n",
      "\n"
     ]
    }
   ],
   "source": [
    "from pyspark.sql.functions import concat_ws\n",
    "#Format customer data\n",
    "customer_df = customer_df.withColumnRenamed(\"FIRST_NAME\",\"First_Name\")\n",
    "customer_df = customer_df.withColumnRenamed(\"MIDDLE_NAME\", \"Middle_Name\")\n",
    "customer_df = customer_df.withColumnRenamed(\"LAST_NAME\", \"Last_Name\")\n",
    "\n",
    "customer_df = customer_df.withColumn('FULL_STREET_ADDRESS', concat_ws(' ', customer_df.STREET_NAME, customer_df.APT_NO))\n",
    "customer_df = customer_df.drop('APT_NO', 'STREET_NAME')\n",
    "\n",
    "\n",
    "customer_df = customer_df.withColumn(\"CUST_ZIP\",customer_df.CUST_ZIP.cast(\"int\"))\n",
    "customer_df.show(2)\n",
    "customer_df.printSchema()"
   ]
  },
  {
   "cell_type": "code",
   "execution_count": null,
   "metadata": {},
   "outputs": [],
   "source": []
  }
 ],
 "metadata": {
  "kernelspec": {
   "display_name": "Python 3.10.5 64-bit",
   "language": "python",
   "name": "python3"
  },
  "language_info": {
   "codemirror_mode": {
    "name": "ipython",
    "version": 3
   },
   "file_extension": ".py",
   "mimetype": "text/x-python",
   "name": "python",
   "nbconvert_exporter": "python",
   "pygments_lexer": "ipython3",
   "version": "3.10.5"
  },
  "orig_nbformat": 4,
  "vscode": {
   "interpreter": {
    "hash": "fd4110c24007a8932a3d1190c4235a687f61798c74df7b8bad496b0148437657"
   }
  }
 },
 "nbformat": 4,
 "nbformat_minor": 2
}
