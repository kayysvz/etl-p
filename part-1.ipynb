{
 "cells": [
  {
   "cell_type": "code",
   "execution_count": 148,
   "metadata": {},
   "outputs": [],
   "source": [
    "import numpy as np\n",
    "import pandas as pd\n",
    "from pyspark.sql import SparkSession\n",
    "\n",
    "import os\n",
    "os.environ['JAVA_HOME'] = 'C:\\Program Files\\Java\\jdk-18.0.2'\n",
    "os.environ['SPARK_HOME'] = 'C:\\Program Files\\spark-3.3.0-bin-hadoop3'"
   ]
  },
  {
   "cell_type": "code",
   "execution_count": 149,
   "metadata": {},
   "outputs": [],
   "source": [
    "#Create a spark session\n",
    "\n",
    "spark = SparkSession.builder.appName('Read JSON File into DataFrame').getOrCreate()\n",
    "\n",
    "#Read JSON and assign to pyspark dataframes\n",
    "\n",
    "customer_df = spark.read.json('cdw_sapp_custmer.json')\n",
    "credit_df = spark.read.json('cdw_sapp_credit.json')\n",
    "branch_df = spark.read.json('cdw_sapp_branch.json')"
   ]
  },
  {
   "cell_type": "code",
   "execution_count": 150,
   "metadata": {},
   "outputs": [
    {
     "name": "stdout",
     "output_type": "stream",
     "text": [
      "root\n",
      " |-- APT_NO: string (nullable = true)\n",
      " |-- CREDIT_CARD_NO: string (nullable = true)\n",
      " |-- CUST_CITY: string (nullable = true)\n",
      " |-- CUST_COUNTRY: string (nullable = true)\n",
      " |-- CUST_EMAIL: string (nullable = true)\n",
      " |-- CUST_PHONE: long (nullable = true)\n",
      " |-- CUST_STATE: string (nullable = true)\n",
      " |-- CUST_ZIP: string (nullable = true)\n",
      " |-- FIRST_NAME: string (nullable = true)\n",
      " |-- LAST_NAME: string (nullable = true)\n",
      " |-- LAST_UPDATED: string (nullable = true)\n",
      " |-- MIDDLE_NAME: string (nullable = true)\n",
      " |-- SSN: long (nullable = true)\n",
      " |-- STREET_NAME: string (nullable = true)\n",
      "\n"
     ]
    }
   ],
   "source": [
    "\n",
    "customer_df.printSchema()"
   ]
  },
  {
   "cell_type": "code",
   "execution_count": 151,
   "metadata": {},
   "outputs": [
    {
     "name": "stdout",
     "output_type": "stream",
     "text": [
      "+----------------+------------+-------------+-------------------+----------+----------+--------+----------+---------+--------------------+-----------+---------+--------------------+\n",
      "|  CREDIT_CARD_NO|   CUST_CITY| CUST_COUNTRY|         CUST_EMAIL|CUST_PHONE|CUST_STATE|CUST_ZIP|First_Name|Last_Name|        LAST_UPDATED|Middle_Name|      SSN| FULL_STREET_ADDRESS|\n",
      "+----------------+------------+-------------+-------------------+----------+----------+--------+----------+---------+--------------------+-----------+---------+--------------------+\n",
      "|4210653310061055|     Natchez|United States|AHooper@example.com| 123-37818|        MS|   39120|      Alec|   Hooper|2018-04-21T12:49:...|         Wm|123456100|Main Street North...|\n",
      "|4210653310102868|Wethersfield|United States|EHolman@example.com| 123-38933|        CT|   06109|      Etta|   Holman|2018-04-21T12:49:...|    Brendan|123453023|   Redwood Drive 829|\n",
      "+----------------+------------+-------------+-------------------+----------+----------+--------+----------+---------+--------------------+-----------+---------+--------------------+\n",
      "only showing top 2 rows\n",
      "\n",
      "+----------------+---------+-------------+--------------------+----------+----------+--------+----------+---------+--------------------+-----------+---------+-------------------+\n",
      "|  CREDIT_CARD_NO|CUST_CITY| CUST_COUNTRY|          CUST_EMAIL|CUST_PHONE|CUST_STATE|CUST_ZIP|First_Name|Last_Name|        LAST_UPDATED|Middle_Name|      SSN|FULL_STREET_ADDRESS|\n",
      "+----------------+---------+-------------+--------------------+----------+----------+--------+----------+---------+--------------------+-----------+---------+-------------------+\n",
      "|4210653321125592| Glendora|United States|   MHays@example.com|   1242383|        CA|   91740|   Maritza|     Hays|2018-04-21T12:49:...|     Warner|123453723|       Route 32 100|\n",
      "|4210653325735590|   Oviedo|United States|RVazquez@example.com|   1241575|        FL|   32765|     Romeo|  Vazquez|2018-04-21T12:49:...|    Roseann|123459788|Chestnut Avenue 236|\n",
      "+----------------+---------+-------------+--------------------+----------+----------+--------+----------+---------+--------------------+-----------+---------+-------------------+\n",
      "only showing top 2 rows\n",
      "\n",
      "root\n",
      " |-- CREDIT_CARD_NO: string (nullable = true)\n",
      " |-- CUST_CITY: string (nullable = true)\n",
      " |-- CUST_COUNTRY: string (nullable = true)\n",
      " |-- CUST_EMAIL: string (nullable = true)\n",
      " |-- CUST_PHONE: long (nullable = true)\n",
      " |-- CUST_STATE: string (nullable = true)\n",
      " |-- CUST_ZIP: integer (nullable = true)\n",
      " |-- First_Name: string (nullable = true)\n",
      " |-- Last_Name: string (nullable = true)\n",
      " |-- LAST_UPDATED: string (nullable = true)\n",
      " |-- Middle_Name: string (nullable = true)\n",
      " |-- SSN: long (nullable = true)\n",
      " |-- FULL_STREET_ADDRESS: string (nullable = false)\n",
      "\n"
     ]
    }
   ],
   "source": [
    "from pyspark.sql.functions import concat_ws\n",
    "#Format customer data\n",
    "customer_df = customer_df.withColumnRenamed(\"FIRST_NAME\",\"First_Name\")\n",
    "customer_df = customer_df.withColumnRenamed(\"MIDDLE_NAME\", \"Middle_Name\")\n",
    "customer_df = customer_df.withColumnRenamed(\"LAST_NAME\", \"Last_Name\")\n",
    "\n",
    "customer_df = customer_df.withColumn('FULL_STREET_ADDRESS', concat_ws(' ', customer_df.STREET_NAME, customer_df.APT_NO))\n",
    "customer_df = customer_df.drop('APT_NO', 'STREET_NAME')\n",
    "\n",
    "customer_df.withColumn(\"CUST_PHONE\", concat_ws('-', customer_df.CUST_PHONE[0:3], customer_df.CUST_PHONE[3:7])).show(2)\n",
    "\n",
    "customer_df = customer_df.withColumn(\"CUST_ZIP\",customer_df.CUST_ZIP.cast(\"int\"))\n",
    "customer_df = customer_df.drop_duplicates()\n",
    "customer_df.show(2)\n",
    "customer_df.printSchema()"
   ]
  },
  {
   "cell_type": "code",
   "execution_count": 152,
   "metadata": {},
   "outputs": [
    {
     "name": "stdout",
     "output_type": "stream",
     "text": [
      "root\n",
      " |-- BRANCH_CITY: string (nullable = true)\n",
      " |-- BRANCH_CODE: long (nullable = true)\n",
      " |-- BRANCH_NAME: string (nullable = true)\n",
      " |-- BRANCH_PHONE: string (nullable = true)\n",
      " |-- BRANCH_STATE: string (nullable = true)\n",
      " |-- BRANCH_STREET: string (nullable = true)\n",
      " |-- BRANCH_ZIP: long (nullable = true)\n",
      " |-- LAST_UPDATED: string (nullable = true)\n",
      "\n"
     ]
    }
   ],
   "source": [
    "branch_df.printSchema()"
   ]
  },
  {
   "cell_type": "code",
   "execution_count": 153,
   "metadata": {},
   "outputs": [
    {
     "name": "stdout",
     "output_type": "stream",
     "text": [
      "root\n",
      " |-- BRANCH_CITY: string (nullable = true)\n",
      " |-- BRANCH_CODE: long (nullable = true)\n",
      " |-- BRANCH_NAME: string (nullable = true)\n",
      " |-- BRANCH_PHONE: string (nullable = true)\n",
      " |-- BRANCH_STATE: string (nullable = true)\n",
      " |-- BRANCH_STREET: string (nullable = true)\n",
      " |-- BRANCH_ZIP: long (nullable = true)\n",
      " |-- LAST_UPDATED: timestamp (nullable = true)\n",
      "\n",
      "+-----------+-----------+------------+------------+------------+-----------------+----------+-------------------+\n",
      "|BRANCH_CITY|BRANCH_CODE| BRANCH_NAME|BRANCH_PHONE|BRANCH_STATE|    BRANCH_STREET|BRANCH_ZIP|       LAST_UPDATED|\n",
      "+-----------+-----------+------------+------------+------------+-----------------+----------+-------------------+\n",
      "|    Acworth|        197|Example Bank|  1234914637|          GA|  Briarwood Drive|     30101|2018-04-18 16:51:47|\n",
      "|  Mundelein|         78|Example Bank|  1234164452|          IL|    Heather Court|     60060|2018-04-18 16:51:47|\n",
      "|    Huntley|          2|Example Bank|  1234618993|          IL|Washington Street|     60142|2018-04-18 16:51:47|\n",
      "+-----------+-----------+------------+------------+------------+-----------------+----------+-------------------+\n",
      "only showing top 3 rows\n",
      "\n"
     ]
    }
   ],
   "source": [
    "#Format branch data\n",
    "\n",
    "from pyspark.sql.functions import unix_timestamp, to_timestamp\n",
    "from pyspark.sql.types import TimestampType\n",
    "\n",
    "#branch_df.select(\"LAST_UPDATED\").show(truncate=False)\n",
    "branch_df.na.fill(value=00000,subset=[\"BRANCH_ZIP\"])\n",
    "branch_df.withColumn(\"BRANCH_PHONE\", concat_ws('-', branch_df.BRANCH_PHONE[0:3], branch_df.BRANCH_PHONE[3:7]))\n",
    "\n",
    "branch_df = branch_df.withColumn(\"LAST_UPDATED\",to_timestamp(\"LAST_UPDATED\"))\n",
    "branch_df.printSchema()\n",
    "branch_df = branch_df.drop_duplicates()\n",
    "branch_df.show(3)\n"
   ]
  },
  {
   "cell_type": "code",
   "execution_count": 154,
   "metadata": {},
   "outputs": [
    {
     "name": "stdout",
     "output_type": "stream",
     "text": [
      "+-----------+----------------+---------+---+-----+--------------+----------------+-----------------+----+\n",
      "|BRANCH_CODE|  CREDIT_CARD_NO| CUST_SSN|DAY|MONTH|TRANSACTION_ID|TRANSACTION_TYPE|TRANSACTION_VALUE|YEAR|\n",
      "+-----------+----------------+---------+---+-----+--------------+----------------+-----------------+----+\n",
      "|        114|4210653349028689|123459988| 14|    2|             1|       Education|             78.9|2018|\n",
      "+-----------+----------------+---------+---+-----+--------------+----------------+-----------------+----+\n",
      "only showing top 1 row\n",
      "\n",
      "root\n",
      " |-- BRANCH_CODE: long (nullable = true)\n",
      " |-- CREDIT_CARD_NO: string (nullable = true)\n",
      " |-- CUST_SSN: long (nullable = true)\n",
      " |-- DAY: long (nullable = true)\n",
      " |-- MONTH: long (nullable = true)\n",
      " |-- TRANSACTION_ID: long (nullable = true)\n",
      " |-- TRANSACTION_TYPE: string (nullable = true)\n",
      " |-- TRANSACTION_VALUE: double (nullable = true)\n",
      " |-- YEAR: long (nullable = true)\n",
      "\n"
     ]
    }
   ],
   "source": [
    "credit_df.show(1)\n",
    "credit_df.printSchema()"
   ]
  },
  {
   "cell_type": "code",
   "execution_count": 155,
   "metadata": {},
   "outputs": [
    {
     "ename": "AttributeError",
     "evalue": "'DataFrame' object has no attribute 'setNullableStateOfColumn'",
     "output_type": "error",
     "traceback": [
      "\u001b[1;31m---------------------------------------------------------------------------\u001b[0m",
      "\u001b[1;31mAttributeError\u001b[0m                            Traceback (most recent call last)",
      "\u001b[1;32mc:\\Users\\kayys\\etl-p\\part-1.ipynb Cell 8\u001b[0m in \u001b[0;36m<cell line: 5>\u001b[1;34m()\u001b[0m\n\u001b[0;32m      <a href='vscode-notebook-cell:/c%3A/Users/kayys/etl-p/part-1.ipynb#ch0000008?line=2'>3</a>\u001b[0m credit_df \u001b[39m=\u001b[39m credit_df\u001b[39m.\u001b[39mwithColumn(\u001b[39m'\u001b[39m\u001b[39mTIMEID\u001b[39m\u001b[39m'\u001b[39m, concat_ws(\u001b[39m'\u001b[39m\u001b[39m'\u001b[39m, credit_df\u001b[39m.\u001b[39mYEAR, credit_df\u001b[39m.\u001b[39mMONTH, credit_df\u001b[39m.\u001b[39mDAY  ))\n\u001b[0;32m      <a href='vscode-notebook-cell:/c%3A/Users/kayys/etl-p/part-1.ipynb#ch0000008?line=3'>4</a>\u001b[0m credit_df \u001b[39m=\u001b[39m customer_df\u001b[39m.\u001b[39mdrop(\u001b[39m'\u001b[39m\u001b[39mDAY\u001b[39m\u001b[39m'\u001b[39m, \u001b[39m'\u001b[39m\u001b[39mMONTH\u001b[39m\u001b[39m'\u001b[39m, \u001b[39m'\u001b[39m\u001b[39mYEAR\u001b[39m\u001b[39m'\u001b[39m)\n\u001b[1;32m----> <a href='vscode-notebook-cell:/c%3A/Users/kayys/etl-p/part-1.ipynb#ch0000008?line=4'>5</a>\u001b[0m credit_df\u001b[39m.\u001b[39;49msetNullableStateOfColumn(\u001b[39m'\u001b[39m\u001b[39mTRANSACTION_ID\u001b[39m\u001b[39m'\u001b[39m, \u001b[39mFalse\u001b[39;00m)\n\u001b[0;32m      <a href='vscode-notebook-cell:/c%3A/Users/kayys/etl-p/part-1.ipynb#ch0000008?line=5'>6</a>\u001b[0m credit_df \u001b[39m=\u001b[39m credit_df\u001b[39m.\u001b[39mdrop_duplicates()\n\u001b[0;32m      <a href='vscode-notebook-cell:/c%3A/Users/kayys/etl-p/part-1.ipynb#ch0000008?line=6'>7</a>\u001b[0m credit_df\u001b[39m.\u001b[39mshow(\u001b[39m3\u001b[39m)\n",
      "File \u001b[1;32mc:\\Users\\kayys\\AppData\\Local\\Programs\\Python\\Python310\\lib\\site-packages\\pyspark\\sql\\dataframe.py:1988\u001b[0m, in \u001b[0;36mDataFrame.__getattr__\u001b[1;34m(self, name)\u001b[0m\n\u001b[0;32m   1978\u001b[0m \u001b[39m\"\"\"Returns the :class:`Column` denoted by ``name``.\u001b[39;00m\n\u001b[0;32m   1979\u001b[0m \n\u001b[0;32m   1980\u001b[0m \u001b[39m.. versionadded:: 1.3.0\u001b[39;00m\n\u001b[1;32m   (...)\u001b[0m\n\u001b[0;32m   1985\u001b[0m \u001b[39m[Row(age=2), Row(age=5)]\u001b[39;00m\n\u001b[0;32m   1986\u001b[0m \u001b[39m\"\"\"\u001b[39;00m\n\u001b[0;32m   1987\u001b[0m \u001b[39mif\u001b[39;00m name \u001b[39mnot\u001b[39;00m \u001b[39min\u001b[39;00m \u001b[39mself\u001b[39m\u001b[39m.\u001b[39mcolumns:\n\u001b[1;32m-> 1988\u001b[0m     \u001b[39mraise\u001b[39;00m \u001b[39mAttributeError\u001b[39;00m(\n\u001b[0;32m   1989\u001b[0m         \u001b[39m\"\u001b[39m\u001b[39m'\u001b[39m\u001b[39m%s\u001b[39;00m\u001b[39m'\u001b[39m\u001b[39m object has no attribute \u001b[39m\u001b[39m'\u001b[39m\u001b[39m%s\u001b[39;00m\u001b[39m'\u001b[39m\u001b[39m\"\u001b[39m \u001b[39m%\u001b[39m (\u001b[39mself\u001b[39m\u001b[39m.\u001b[39m\u001b[39m__class__\u001b[39m\u001b[39m.\u001b[39m\u001b[39m__name__\u001b[39m, name)\n\u001b[0;32m   1990\u001b[0m     )\n\u001b[0;32m   1991\u001b[0m jc \u001b[39m=\u001b[39m \u001b[39mself\u001b[39m\u001b[39m.\u001b[39m_jdf\u001b[39m.\u001b[39mapply(name)\n\u001b[0;32m   1992\u001b[0m \u001b[39mreturn\u001b[39;00m Column(jc)\n",
      "\u001b[1;31mAttributeError\u001b[0m: 'DataFrame' object has no attribute 'setNullableStateOfColumn'"
     ]
    }
   ],
   "source": [
    "#Format credit data\n",
    "#Concat YEAR, MONTH, DAY for YYYYMMDD format\n",
    "credit_df = credit_df.withColumn('TIMEID', concat_ws('', credit_df.YEAR, credit_df.MONTH, credit_df.DAY  ))\n",
    "credit_df = customer_df.drop('DAY', 'MONTH', 'YEAR')\n",
    "\n",
    "credit_df = credit_df.drop_duplicates()\n",
    "credit_df.show(3)\n"
   ]
  },
  {
   "cell_type": "code",
   "execution_count": null,
   "metadata": {},
   "outputs": [],
   "source": []
  }
 ],
 "metadata": {
  "kernelspec": {
   "display_name": "Python 3.10.5 64-bit",
   "language": "python",
   "name": "python3"
  },
  "language_info": {
   "codemirror_mode": {
    "name": "ipython",
    "version": 3
   },
   "file_extension": ".py",
   "mimetype": "text/x-python",
   "name": "python",
   "nbconvert_exporter": "python",
   "pygments_lexer": "ipython3",
   "version": "3.10.5"
  },
  "orig_nbformat": 4,
  "vscode": {
   "interpreter": {
    "hash": "fd4110c24007a8932a3d1190c4235a687f61798c74df7b8bad496b0148437657"
   }
  }
 },
 "nbformat": 4,
 "nbformat_minor": 2
}
